{
 "cells": [
  {
   "cell_type": "code",
   "execution_count": null,
   "id": "fff04f2d",
   "metadata": {},
   "outputs": [],
   "source": [
    "import pandas as pd\n",
    "import numpy as np\n",
    "import matplotlib.pyplot as plt\n",
    "%matplotlib inline\n",
    "import seaborn as sns\n"
   ]
  },
  {
   "cell_type": "code",
   "execution_count": null,
   "id": "647d3786",
   "metadata": {},
   "outputs": [],
   "source": [
    "df=pd.read_csv(r\"C:\\Users\\rahul\\Downloads\\ML_Data\\Anaysis_Data\\Diwali Sales Data.csv\")\n",
    "df"
   ]
  },
  {
   "cell_type": "code",
   "execution_count": null,
   "id": "4ea5fb91",
   "metadata": {},
   "outputs": [],
   "source": [
    "df.head(2)"
   ]
  },
  {
   "cell_type": "code",
   "execution_count": null,
   "id": "51f9310e",
   "metadata": {},
   "outputs": [],
   "source": [
    "df[\"User_ID\"].drop_duplicates()"
   ]
  },
  {
   "cell_type": "markdown",
   "id": "46e97f1e",
   "metadata": {},
   "source": [
    "# Total_Customer ?\n"
   ]
  },
  {
   "cell_type": "code",
   "execution_count": null,
   "id": "81fc935f",
   "metadata": {},
   "outputs": [],
   "source": [
    "print(\"Total_Customer_3752\")"
   ]
  },
  {
   "cell_type": "markdown",
   "id": "e8f9eb1d",
   "metadata": {},
   "source": [
    "# Total_Order ?\n"
   ]
  },
  {
   "cell_type": "code",
   "execution_count": null,
   "id": "85ad5457",
   "metadata": {},
   "outputs": [],
   "source": [
    "df[\"Orders\"].sum()"
   ]
  },
  {
   "cell_type": "markdown",
   "id": "13bebcab",
   "metadata": {},
   "source": [
    "# Total _Amount  received"
   ]
  },
  {
   "cell_type": "code",
   "execution_count": null,
   "id": "211471d7",
   "metadata": {},
   "outputs": [],
   "source": [
    "df[\"Amount\"].sum()"
   ]
  },
  {
   "cell_type": "markdown",
   "id": "09c4641c",
   "metadata": {},
   "source": [
    "# Avg _Person_Amount"
   ]
  },
  {
   "cell_type": "code",
   "execution_count": null,
   "id": "c7704658",
   "metadata": {},
   "outputs": [],
   "source": [
    "t=3752/106249129\n",
    "t"
   ]
  },
  {
   "cell_type": "code",
   "execution_count": null,
   "id": "482c6f6f",
   "metadata": {},
   "outputs": [],
   "source": [
    "result = 3.531323066187206\n",
    "\n",
    "rounded_result = round(result)\n",
    "print(rounded_result)\n"
   ]
  },
  {
   "cell_type": "code",
   "execution_count": null,
   "id": "ac0a64de",
   "metadata": {},
   "outputs": [],
   "source": [
    "df.head(2)"
   ]
  },
  {
   "cell_type": "markdown",
   "id": "32e9ff66",
   "metadata": {},
   "source": [
    "# BASIC_INFORMATION_DATA"
   ]
  },
  {
   "cell_type": "code",
   "execution_count": null,
   "id": "7dea5648",
   "metadata": {},
   "outputs": [],
   "source": [
    "df.columns"
   ]
  },
  {
   "cell_type": "code",
   "execution_count": null,
   "id": "c5c97acd",
   "metadata": {},
   "outputs": [],
   "source": [
    "df[\"Age Group\"].unique()"
   ]
  },
  {
   "cell_type": "code",
   "execution_count": null,
   "id": "eb53ce16",
   "metadata": {},
   "outputs": [],
   "source": [
    "df[\"Age\"].unique()"
   ]
  },
  {
   "cell_type": "code",
   "execution_count": null,
   "id": "18457ddb",
   "metadata": {},
   "outputs": [],
   "source": [
    "df[\"State\"].unique()"
   ]
  },
  {
   "cell_type": "code",
   "execution_count": null,
   "id": "be04ecf6",
   "metadata": {},
   "outputs": [],
   "source": [
    "df[\"Zone\"].unique()"
   ]
  },
  {
   "cell_type": "code",
   "execution_count": null,
   "id": "18dad906",
   "metadata": {},
   "outputs": [],
   "source": [
    "df[\"Occupation\"].unique()"
   ]
  },
  {
   "cell_type": "code",
   "execution_count": null,
   "id": "77a7e9f7",
   "metadata": {},
   "outputs": [],
   "source": [
    "df[\"Product_Category\"].unique()"
   ]
  },
  {
   "cell_type": "code",
   "execution_count": null,
   "id": "29b411f3",
   "metadata": {},
   "outputs": [],
   "source": [
    "df[\"Orders\"].unique()"
   ]
  },
  {
   "cell_type": "code",
   "execution_count": null,
   "id": "d2923364",
   "metadata": {},
   "outputs": [],
   "source": [
    "df.shape"
   ]
  },
  {
   "cell_type": "markdown",
   "id": "f1841313",
   "metadata": {},
   "source": [
    "# Data_Cleaning"
   ]
  },
  {
   "cell_type": "code",
   "execution_count": null,
   "id": "b3d322a6",
   "metadata": {},
   "outputs": [],
   "source": [
    "df.info()"
   ]
  },
  {
   "cell_type": "code",
   "execution_count": null,
   "id": "4a6c4cbc",
   "metadata": {},
   "outputs": [],
   "source": [
    "df.drop([\"Status\",\"unnamed1\"],axis=1 ,inplace=True)"
   ]
  },
  {
   "cell_type": "code",
   "execution_count": null,
   "id": "b14e7ce6",
   "metadata": {},
   "outputs": [],
   "source": [
    "df.head()"
   ]
  },
  {
   "cell_type": "markdown",
   "id": "baeea87b",
   "metadata": {},
   "source": [
    "# Is There Null Value Here In Columns "
   ]
  },
  {
   "cell_type": "code",
   "execution_count": null,
   "id": "b2edce9b",
   "metadata": {},
   "outputs": [],
   "source": [
    "df.isnull().sum()"
   ]
  },
  {
   "cell_type": "markdown",
   "id": "cc4d476e",
   "metadata": {},
   "source": [
    "# Drop the Null value "
   ]
  },
  {
   "cell_type": "code",
   "execution_count": null,
   "id": "b51b1371",
   "metadata": {},
   "outputs": [],
   "source": [
    "df.dropna(inplace=True)"
   ]
  },
  {
   "cell_type": "code",
   "execution_count": null,
   "id": "ead7ada6",
   "metadata": {},
   "outputs": [],
   "source": [
    "df.isnull().sum()"
   ]
  },
  {
   "cell_type": "markdown",
   "id": "25160942",
   "metadata": {},
   "source": [
    "# Data _Types _Changing"
   ]
  },
  {
   "cell_type": "code",
   "execution_count": null,
   "id": "818f0909",
   "metadata": {},
   "outputs": [],
   "source": [
    "df.info()"
   ]
  },
  {
   "cell_type": "code",
   "execution_count": null,
   "id": "6c00f3d0",
   "metadata": {},
   "outputs": [],
   "source": [
    "df[\"Amount\"]=df[\"Amount\"].astype('int')"
   ]
  },
  {
   "cell_type": "code",
   "execution_count": null,
   "id": "aa395381",
   "metadata": {},
   "outputs": [],
   "source": [
    "df[\"Amount\"].dtype"
   ]
  },
  {
   "cell_type": "markdown",
   "id": "3fe8129a",
   "metadata": {},
   "source": [
    "# Colunms Rename "
   ]
  },
  {
   "cell_type": "code",
   "execution_count": null,
   "id": "7d22c9e3",
   "metadata": {},
   "outputs": [],
   "source": [
    "df.rename(columns={\"Marital_Status\":\"Shaadi\"},inplace=True)\n",
    "df"
   ]
  },
  {
   "cell_type": "code",
   "execution_count": null,
   "id": "8d43366e",
   "metadata": {},
   "outputs": [],
   "source": [
    "df.describe()"
   ]
  },
  {
   "cell_type": "code",
   "execution_count": null,
   "id": "0eb8ea8a",
   "metadata": {},
   "outputs": [],
   "source": [
    "df[[\"Age\",\"Orders\",\"Amount\"]].describe()"
   ]
  },
  {
   "cell_type": "markdown",
   "id": "65332a58",
   "metadata": {},
   "source": [
    "# Exploratory Data Analysis (EDA)"
   ]
  },
  {
   "cell_type": "markdown",
   "id": "6eb9e9fd",
   "metadata": {},
   "source": [
    "# Gender wise"
   ]
  },
  {
   "cell_type": "code",
   "execution_count": null,
   "id": "133d1e7b",
   "metadata": {},
   "outputs": [],
   "source": [
    "df.columns"
   ]
  },
  {
   "cell_type": "markdown",
   "id": "93d40e69",
   "metadata": {},
   "source": [
    "# \"Females bought more than males.\""
   ]
  },
  {
   "cell_type": "code",
   "execution_count": null,
   "id": "a4579f0a",
   "metadata": {},
   "outputs": [],
   "source": [
    "g=sns.countplot(x=\"Gender\",data=df)\n",
    "\n",
    "for i in g.containers:\n",
    "    g.bar_label(i)"
   ]
  },
  {
   "cell_type": "code",
   "execution_count": null,
   "id": "69ce9396",
   "metadata": {},
   "outputs": [],
   "source": [
    "sal=df.groupby([\"Gender\"],as_index=False)[\"Amount\"].sum().sort_values(by=\"Amount\",ascending=False)\n",
    "sal"
   ]
  },
  {
   "cell_type": "markdown",
   "id": "aa001791",
   "metadata": {},
   "source": [
    "# Genders by Total Amount"
   ]
  },
  {
   "cell_type": "code",
   "execution_count": null,
   "id": "d5a6ccfa",
   "metadata": {},
   "outputs": [],
   "source": [
    "df_grouped = df.groupby('Gender')['Amount'].sum().reset_index()\n",
    "top_genders_O = df_grouped.sort_values(by='Amount', ascending=False)\n",
    "\n",
    "\n",
    "plt.figure(figsize=(15, 10))\n",
    "plt.bar(top_genders_O['Gender'], top_genders_O['Amount'], color='Red')\n",
    "\n",
    "# Add labels and title\n",
    "plt.xlabel('Gender', size=15)\n",
    "plt.ylabel('Total Amount', size=15)\n",
    "plt.title('Genders by Total Amount', size=20)\n",
    "\n",
    "# Add value labels on top of the bars\n",
    "for i in range(len(top_genders_O)):\n",
    "    plt.text(i, top_genders_O['Amount'].iloc[i], f'{top_genders_O[\"Amount\"].iloc[i]:,.0f}', \n",
    "             ha='center', va='bottom', fontsize=15)\n",
    "\n",
    "plt.tight_layout()\n",
    "\n",
    "plt.show()\n"
   ]
  },
  {
   "cell_type": "markdown",
   "id": "3a3e69e5",
   "metadata": {},
   "source": [
    "# Gender Vs  Total Orders"
   ]
  },
  {
   "cell_type": "code",
   "execution_count": null,
   "id": "1be480b4",
   "metadata": {},
   "outputs": [],
   "source": [
    "sal=df.groupby([\"Gender\"],as_index=False)[\"Orders\"].sum().sort_values(by=\"Orders\",ascending=False)\n",
    "sal"
   ]
  },
  {
   "cell_type": "code",
   "execution_count": null,
   "id": "77d69e25",
   "metadata": {},
   "outputs": [],
   "source": [
    "\n",
    "df_grouped = df.groupby('Gender')['Orders'].sum().reset_index()\n",
    "\n",
    "top_genders_O = df_grouped.sort_values(by='Orders', ascending=False)\n",
    "\n",
    "plt.figure(figsize=(15, 10))\n",
    "\n",
    "# Create the bar chart\n",
    "plt.bar(top_genders_O['Gender'], top_genders_O['Orders'], color='Red')\n",
    "\n",
    "\n",
    "# Add labels and title\n",
    "plt.xlabel('Gender', size=15)\n",
    "plt.ylabel('Total Orders', size=15)\n",
    "plt.title('Genders by Total Orders', size=20)\n",
    "\n",
    "\n",
    "\n",
    "\n",
    "# Add value labels on top of the bars\n",
    "for i in range(len(top_genders_O)):\n",
    "    plt.text(i, top_genders_O['Orders'].iloc[i], f'{top_genders_O[\"Orders\"].iloc[i]:,.0f}', \n",
    "             ha='center', va='bottom', fontsize=15)\n",
    "\n",
    "\n",
    "    \n",
    "# Display the plot\n",
    "plt.tight_layout()\n",
    "plt.show()\n"
   ]
  },
  {
   "cell_type": "markdown",
   "id": "5b8263c3",
   "metadata": {},
   "source": [
    "# \"From the above graphs, we can see that most of the buyers and purchases are made by females compared to males.\"\n",
    "\n"
   ]
  },
  {
   "cell_type": "code",
   "execution_count": null,
   "id": "8c0116cd",
   "metadata": {},
   "outputs": [],
   "source": [
    "df.columns"
   ]
  },
  {
   "cell_type": "markdown",
   "id": "7823d1d3",
   "metadata": {},
   "source": [
    "# Age Group "
   ]
  },
  {
   "cell_type": "code",
   "execution_count": null,
   "id": "5961f073",
   "metadata": {},
   "outputs": [],
   "source": [
    "a=sns.countplot(data=df ,x=\"Age Group\",hue =\"Gender\")\n",
    "\n",
    "for i in a.containers:\n",
    "    a.bar_label(i)"
   ]
  },
  {
   "cell_type": "markdown",
   "id": "1d1c44fe",
   "metadata": {},
   "source": [
    "# \"There are more females than males in the 26 to 35 age group.\"\n",
    "\n"
   ]
  },
  {
   "cell_type": "code",
   "execution_count": null,
   "id": "d0fab943",
   "metadata": {},
   "outputs": [],
   "source": [
    "Age_Group=df.groupby([\"Age Group\"],as_index=False)[\"Amount\"].sum().sort_values(by=\"Amount\",ascending=False)\n",
    "sns.set(rc={'figure.figsize':(10,7)})\n",
    "\n",
    "sns.barplot(x=\"Age Group\",y=\"Amount\",data=Age_Group)"
   ]
  },
  {
   "cell_type": "code",
   "execution_count": null,
   "id": "7d653768",
   "metadata": {},
   "outputs": [],
   "source": [
    "Age_Group=df.groupby([\"Age Group\"],as_index=False)[\"Amount\"].sum().sort_values(by=\"Amount\",ascending=False)\n",
    "Age_Group"
   ]
  },
  {
   "cell_type": "markdown",
   "id": "05f7f402",
   "metadata": {},
   "source": [
    "# \"From the above graphs, we can see that most of the buyers are females Age Group  between 26 and 35 years.\"\n",
    "\n"
   ]
  },
  {
   "cell_type": "markdown",
   "id": "6171caf4",
   "metadata": {},
   "source": [
    "# State"
   ]
  },
  {
   "cell_type": "code",
   "execution_count": null,
   "id": "9755f2c5",
   "metadata": {},
   "outputs": [],
   "source": [
    "df.columns"
   ]
  },
  {
   "cell_type": "markdown",
   "id": "6e68c3a7",
   "metadata": {},
   "source": [
    "# State  Vs Orders"
   ]
  },
  {
   "cell_type": "code",
   "execution_count": null,
   "id": "d80c4291",
   "metadata": {},
   "outputs": [],
   "source": [
    "# Aggregate the data by state, summing the amounts\n",
    "df_grouped = df.groupby('State')['Orders'].sum().reset_index()\n",
    "\n",
    "top_states_O = df_grouped.sort_values(by='Orders', ascending=False).head(10)\n",
    "\n",
    "# Plot the data\n",
    "plt.figure(figsize=(15, 10))\n",
    "\n",
    "# Create the bar chart\n",
    "plt.bar(top_states_O['State'], top_states_O['Orders'], color='lightgreen')\n",
    "\n",
    "\n",
    "\n",
    "# Add labels and title\n",
    "plt.xlabel('States', size=15)\n",
    "plt.ylabel('Total Orders', size=15)\n",
    "plt.title('Top 10 States by Total Orders', size=10)\n",
    "\n",
    "\n",
    "\n",
    "# Add value labels on top of the gbars\n",
    "for i in range(len(top_states_O)):\n",
    "    \n",
    "    plt.text(i, top_states_O['Orders'].iloc[i], f'{top_states_O[\"Orders\"].iloc[i]:,.0f}', \n",
    "             ha='center', va='bottom', fontsize=15)\n",
    "\n",
    "# Display the plot\n",
    "plt.tight_layout()\n",
    "plt.show()\n"
   ]
  },
  {
   "cell_type": "code",
   "execution_count": null,
   "id": "80acab23",
   "metadata": {},
   "outputs": [],
   "source": [
    "df.groupby([\"State\"],as_index=False)[\"Orders\"].sum().sort_values(by=\"Orders\",ascending=False).head(10)"
   ]
  },
  {
   "cell_type": "code",
   "execution_count": null,
   "id": "c2fcd793",
   "metadata": {},
   "outputs": [],
   "source": []
  },
  {
   "cell_type": "markdown",
   "id": "3d165ca9",
   "metadata": {},
   "source": [
    "# States  Vs  Amount"
   ]
  },
  {
   "cell_type": "code",
   "execution_count": null,
   "id": "be24b059",
   "metadata": {},
   "outputs": [],
   "source": [
    "df_grouped = df.groupby('State')['Amount'].sum().reset_index()\n",
    "\n",
    "top_states = df_grouped.sort_values(by='Amount', ascending=False).head(10)\n",
    "\n",
    "plt.figure(figsize=(15, 10))\n",
    "\n",
    "# Create the bar chart\n",
    "plt.bar(top_states['State'], top_states['Amount'], color='Orange')\n",
    "\n",
    "# Add labels and title\n",
    "plt.xlabel('States', size=15)\n",
    "plt.ylabel('Total Amount', size=15)\n",
    "plt.title('Top 10 States by Total Amount', size=10)\n",
    "\n",
    "# Add value labels on top of the bars\n",
    "\n",
    "for i in range(len(top_states)):\n",
    "    \n",
    "    plt.text(i, top_states['Amount'].iloc[i], f'{top_states[\"Amount\"].iloc[i]:,.0f}', \n",
    "             ha='center', va='bottom', fontsize=15)\n",
    "\n",
    "# Display the plot\n",
    "plt.tight_layout()\n",
    "plt.show()\n"
   ]
  },
  {
   "cell_type": "code",
   "execution_count": null,
   "id": "5611bd31",
   "metadata": {},
   "outputs": [],
   "source": [
    "df.groupby([\"State\"],as_index=False)[\"Amount\"].sum().sort_values(by=\"Amount\",ascending=False).head(5)\n"
   ]
  },
  {
   "cell_type": "code",
   "execution_count": null,
   "id": "d40d7c08",
   "metadata": {},
   "outputs": [],
   "source": [
    "df.groupby([\"State\"],as_index=False)[\"Orders\"].sum().sort_values(by=\"Orders\",ascending=False).head(5)"
   ]
  },
  {
   "cell_type": "markdown",
   "id": "8e907bde",
   "metadata": {},
   "source": [
    "# \"From the above graphs, we can see that most of the total sales/amount come from Uttar Pradesh, Maharashtra, and Karnataka, respectively.\"\n",
    "\n"
   ]
  },
  {
   "cell_type": "code",
   "execution_count": null,
   "id": "33dd5555",
   "metadata": {},
   "outputs": [],
   "source": [
    "df.columns"
   ]
  },
  {
   "cell_type": "markdown",
   "id": "68cf6e65",
   "metadata": {},
   "source": [
    "# Marital_Status"
   ]
  },
  {
   "cell_type": "code",
   "execution_count": null,
   "id": "f6749145",
   "metadata": {},
   "outputs": [],
   "source": [
    "m = sns.countplot(x=\"Shaadi\",data=df)\n",
    "\n",
    "\n",
    "sns.set(rc={'figure.figsize':(7,3)})\n",
    "for i in m.containers:\n",
    "    m.bar_label(i)"
   ]
  },
  {
   "cell_type": "code",
   "execution_count": null,
   "id": "d561a77a",
   "metadata": {},
   "outputs": [],
   "source": [
    "df.columns"
   ]
  },
  {
   "cell_type": "code",
   "execution_count": null,
   "id": "04027755",
   "metadata": {},
   "outputs": [],
   "source": [
    "Age_Group=df.groupby([\"Shaadi\",\"Gender\"],as_index=False)[\"Amount\"].sum().sort_values(by=\"Amount\",ascending=False)\n",
    "sns.set(rc={'figure.figsize':(10,7)})\n",
    "\n",
    "sns.barplot(x=\"Shaadi\",y=\"Amount\",data=Age_Group,hue=\"Gender\")"
   ]
  },
  {
   "cell_type": "markdown",
   "id": "1e85b22d",
   "metadata": {},
   "source": [
    "# From Above graphs we can see that most of the the buyer are married (women) and they have high purchasing Power"
   ]
  },
  {
   "cell_type": "markdown",
   "id": "04fd6e0f",
   "metadata": {},
   "source": [
    "# Zone "
   ]
  },
  {
   "cell_type": "code",
   "execution_count": null,
   "id": "6c60f59b",
   "metadata": {},
   "outputs": [],
   "source": [
    "import matplotlib.pyplot as plt\n",
    "import pandas as pd\n",
    "\n",
    "# Group the data by 'Zone', and sum the 'Amount'\n",
    "df_grouped = df.groupby('Zone')['Amount'].sum().reset_index()\n",
    "\n",
    "# Sort the top 10 states by the highest amount\n",
    "top_states = df_grouped.sort_values(by='Amount', ascending=False).head(10)\n",
    "\n",
    "# Prepare a pie chart of the data\n",
    "plt.figure(figsize=(10, 5))\n",
    "\n",
    "# Create the pie chart\n",
    "plt.pie(top_states['Amount'], labels=top_states['Zone'], autopct='%1.1f%%', startangle=120, colors=plt.cm.Paired.colors)\n",
    "\n",
    "# Add a title\n",
    "plt.title('Zone by Amount % ', size=10)\n",
    "\n",
    "# Display the chart\n",
    "plt.tight_layout()\n",
    "plt.show()\n"
   ]
  },
  {
   "cell_type": "code",
   "execution_count": null,
   "id": "9b229d8a",
   "metadata": {},
   "outputs": [],
   "source": []
  },
  {
   "cell_type": "markdown",
   "id": "eda65424",
   "metadata": {},
   "source": [
    "# Orders by Zone and Marital Status\n"
   ]
  },
  {
   "cell_type": "code",
   "execution_count": null,
   "id": "0915b32a",
   "metadata": {},
   "outputs": [],
   "source": [
    "pivot_table = df.pivot_table(index='Zone', columns='Shaadi', values='Orders', aggfunc='count')\n",
    "\n",
    "sns.heatmap(pivot_table, annot=True, fmt='.0f', cmap='Oranges')\n",
    "\n",
    "plt.show()\n"
   ]
  },
  {
   "cell_type": "markdown",
   "id": "33db8fe3",
   "metadata": {},
   "source": [
    "# Occuption "
   ]
  },
  {
   "cell_type": "code",
   "execution_count": null,
   "id": "2062bfa5",
   "metadata": {},
   "outputs": [],
   "source": [
    "df.columns"
   ]
  },
  {
   "cell_type": "code",
   "execution_count": null,
   "id": "733e6920",
   "metadata": {},
   "outputs": [],
   "source": [
    "ss=sns.countplot(x=\"Occupation\",data=df)\n",
    "\n",
    "sns.set(rc={'figure.figsize':(20,10)})\n",
    "for i in ss.containers:\n",
    "    ss.bar_label(i)\n",
    "\n",
    "\n",
    "# sabse jada customer kaha se hai "
   ]
  },
  {
   "cell_type": "code",
   "execution_count": null,
   "id": "ac2f29b5",
   "metadata": {},
   "outputs": [],
   "source": [
    "occ = df.groupby([\"Occupation\"],as_index=False)[\"Amount\"].sum().sort_values(by=\"Amount\",ascending=False)\n",
    "\n",
    "\n",
    "sns.set(rc={'figure.figsize':(20,10)})\n",
    "sns.barplot(x=\"Occupation\",y=\"Amount\",data=occ)                                                                              \n",
    "                                                                                                                                                                                                                                                                                                      "
   ]
  },
  {
   "cell_type": "markdown",
   "id": "b8be2a6f",
   "metadata": {},
   "source": [
    "# \"From the graphs above, we can see that most of the buyers are working in IT, healthcare, and aviation.\"\n"
   ]
  },
  {
   "cell_type": "code",
   "execution_count": null,
   "id": "7315a337",
   "metadata": {},
   "outputs": [],
   "source": []
  },
  {
   "cell_type": "markdown",
   "id": "a64ab611",
   "metadata": {},
   "source": [
    "# Orders by State and Marital Status\n"
   ]
  },
  {
   "cell_type": "code",
   "execution_count": null,
   "id": "4fb8e5af",
   "metadata": {},
   "outputs": [],
   "source": [
    "pivot_table = df.pivot_table(index='State', columns='Shaadi', values='Orders', aggfunc='sum')\n",
    "\n",
    "sns.heatmap(pivot_table, annot=True, fmt='.0f', cmap='Oranges')\n",
    "\n",
    "plt.show()\n"
   ]
  },
  {
   "cell_type": "code",
   "execution_count": null,
   "id": "969ae74c",
   "metadata": {},
   "outputs": [],
   "source": []
  },
  {
   "cell_type": "markdown",
   "id": "c7776025",
   "metadata": {},
   "source": [
    "# Product_Category  Vs  Count"
   ]
  },
  {
   "cell_type": "code",
   "execution_count": null,
   "id": "7de3c507",
   "metadata": {},
   "outputs": [],
   "source": [
    "pp=sns.countplot(x=\"Product_Category\",data=df)\n",
    "\n",
    "\n",
    "sns.set(rc={'figure.figsize':(25,20)})\n",
    "\n",
    "for i in pp.containers:\n",
    "    pp.bar_label(i)\n",
    "\n"
   ]
  },
  {
   "cell_type": "code",
   "execution_count": null,
   "id": "1b2b16be",
   "metadata": {},
   "outputs": [],
   "source": [
    "df.groupby([\"Product_Category\"],as_index=False)[\"Orders\"].count().sort_values(by=\"Orders\",ascending=False).head()\n"
   ]
  },
  {
   "cell_type": "markdown",
   "id": "f411c824",
   "metadata": {},
   "source": [
    "# Product_Category    Vs Amount"
   ]
  },
  {
   "cell_type": "code",
   "execution_count": null,
   "id": "d576a626",
   "metadata": {},
   "outputs": [],
   "source": [
    "df_grouped = df.groupby('Product_Category')['Amount'].sum().reset_index()\n",
    "\n",
    "Product_Category_1 = df_grouped.sort_values(by='Amount', ascending=False).head(10)\n",
    "\n",
    "\n",
    "plt.figure(figsize=(18, 15))\n",
    "# Create the bar chart\n",
    "\n",
    "plt.bar(Product_Category_1['Product_Category'], Product_Category_1['Amount'], color='pink')\n",
    "\n",
    "\n",
    "plt.xlabel('Product_Category', size=15)\n",
    "plt.ylabel('Total Amount', size=15)\n",
    "plt.title('Top 10 Product_Category by Total Amount', size=10)\n",
    "\n",
    "\n",
    "\n",
    "for i in range(len(Product_Category_1)):\n",
    "    \n",
    "    plt.text(i, Product_Category_1['Amount'].iloc[i], f'{Product_Category_1[\"Amount\"].iloc[i]:,.0f}', \n",
    "             ha='center', va='bottom', fontsize=15)\n",
    "\n",
    "\n",
    "    \n",
    "\n",
    "plt.tight_layout()\n",
    "plt.show()\n"
   ]
  },
  {
   "cell_type": "code",
   "execution_count": null,
   "id": "f7d2b764",
   "metadata": {},
   "outputs": [],
   "source": [
    "df.groupby([\"Product_Category\"],as_index=False)[\"Amount\"].sum().sort_values(by=\"Amount\",ascending=False).head()\n"
   ]
  },
  {
   "cell_type": "markdown",
   "id": "64cf4d98",
   "metadata": {},
   "source": [
    "# Most  of the  sold Products are  From Food,Clothings , Electronoics Category"
   ]
  },
  {
   "cell_type": "code",
   "execution_count": null,
   "id": "9a8bb055",
   "metadata": {},
   "outputs": [],
   "source": [
    "df.columns"
   ]
  },
  {
   "cell_type": "markdown",
   "id": "45b9f158",
   "metadata": {},
   "source": [
    "# Products"
   ]
  },
  {
   "cell_type": "code",
   "execution_count": null,
   "id": "520c87d4",
   "metadata": {},
   "outputs": [],
   "source": [
    "pp = df.groupby([\"Product_ID\"], as_index=False)[\"Orders\"].sum().sort_values(by=\"Orders\", ascending=False).head(10)\n",
    "\n",
    "\n",
    "sns.set(rc={'figure.figsize': (20, 10)})\n",
    "ax = sns.barplot(x=\"Product_ID\", y=\"Orders\", data=pp, palette=\"viridis\")\n",
    "\n",
    "# Top Selling Products Items"
   ]
  },
  {
   "cell_type": "code",
   "execution_count": null,
   "id": "9fb4ef2f",
   "metadata": {},
   "outputs": [],
   "source": [
    "pp2 = plt.subplots(figsize=(12, 7))\n",
    "\n",
    "# Creating a pie chart\n",
    "df.groupby('Product_ID')['Orders'].sum().nlargest(10).plot(kind='pie', ax=pp2[1], autopct='%1.1f%%', startangle=90)\n",
    "\n",
    "pp2[1].set_title('Selling Products', fontsize=18)\n",
    "plt.ylabel('')  # Hide the y-label for pie chart\n",
    "plt.show()\n"
   ]
  },
  {
   "cell_type": "markdown",
   "id": "f21e797b",
   "metadata": {
    "slideshow": {
     "slide_type": "notes"
    }
   },
   "source": [
    "\n",
    "\"Married women aged 26 to 35 years from Uttar Pradesh, Maharashtra, and Karnataka who work in IT, healthcare, and aviation are more likely to buy products from the food and electronics categories.\""
   ]
  },
  {
   "cell_type": "raw",
   "id": "63976976",
   "metadata": {
    "slideshow": {
     "slide_type": "slide"
    }
   },
   "source": []
  },
  {
   "cell_type": "markdown",
   "id": "15b32e51",
   "metadata": {
    "slideshow": {
     "slide_type": "fragment"
    }
   },
   "source": [
    "\"Thank you for viewing this project.\"\n",
    "\n",
    "\n",
    "\n",
    "\n",
    "\n",
    "\n"
   ]
  },
  {
   "cell_type": "code",
   "execution_count": null,
   "id": "e6dd7889",
   "metadata": {},
   "outputs": [],
   "source": []
  }
 ],
 "metadata": {
  "celltoolbar": "Slideshow",
  "kernelspec": {
   "display_name": "Python 3 (ipykernel)",
   "language": "python",
   "name": "python3"
  },
  "language_info": {
   "codemirror_mode": {
    "name": "ipython",
    "version": 3
   },
   "file_extension": ".py",
   "mimetype": "text/x-python",
   "name": "python",
   "nbconvert_exporter": "python",
   "pygments_lexer": "ipython3",
   "version": "3.11.5"
  }
 },
 "nbformat": 4,
 "nbformat_minor": 5
}
